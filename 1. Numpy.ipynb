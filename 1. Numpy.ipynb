{
  "nbformat": 4,
  "nbformat_minor": 0,
  "metadata": {
    "colab": {
      "provenance": [],
      "collapsed_sections": [
        "pS_0M0NOX8XD",
        "nodAkS7jYF5q",
        "AmaGlC9tYNVc",
        "BDo85SyCZWLA",
        "yI42918-apy_",
        "cIJNhw7hbpzD"
      ],
      "toc_visible": true
    },
    "kernelspec": {
      "name": "python3",
      "display_name": "Python 3"
    },
    "language_info": {
      "name": "python"
    }
  },
  "cells": [
    {
      "cell_type": "markdown",
      "source": [
        "# **NumPy**"
      ],
      "metadata": {
        "id": "qA9psS6LS7ws"
      }
    },
    {
      "cell_type": "markdown",
      "source": [
        "Many operations present below will seem obvious if you have already done numpy, although it's very important to go through the following section as it forms the very base of statistical analysis and operations in EDA."
      ],
      "metadata": {
        "id": "pZS58RRxS-zv"
      }
    },
    {
      "cell_type": "markdown",
      "source": [
        "## **Arrays & Methods**"
      ],
      "metadata": {
        "id": "pS_0M0NOX8XD"
      }
    },
    {
      "cell_type": "code",
      "execution_count": null,
      "metadata": {
        "id": "qXV_DuG8S4Vh"
      },
      "outputs": [],
      "source": [
        "# Importing NumPy\n",
        "import numpy as np"
      ]
    },
    {
      "cell_type": "code",
      "source": [
        "# 1D Array\n",
        "array_1d = np.array(range(1,17))\n",
        "array_1d"
      ],
      "metadata": {
        "colab": {
          "base_uri": "https://localhost:8080/"
        },
        "id": "-kNgpcWRTN2b",
        "outputId": "65e456e5-77cb-42ba-dc21-19cff919e942"
      },
      "execution_count": null,
      "outputs": [
        {
          "output_type": "execute_result",
          "data": {
            "text/plain": [
              "array([ 1,  2,  3,  4,  5,  6,  7,  8,  9, 10, 11, 12, 13, 14, 15, 16])"
            ]
          },
          "metadata": {},
          "execution_count": 8
        }
      ]
    },
    {
      "cell_type": "code",
      "source": [
        "# 2D Array\n",
        "array_2d = array_1d.reshape(4,4)\n",
        "array_2d"
      ],
      "metadata": {
        "colab": {
          "base_uri": "https://localhost:8080/"
        },
        "id": "P8urNCMpTW3v",
        "outputId": "0d8a457b-c84b-4bf4-aea6-702776551213"
      },
      "execution_count": null,
      "outputs": [
        {
          "output_type": "execute_result",
          "data": {
            "text/plain": [
              "array([[ 1,  2,  3,  4],\n",
              "       [ 5,  6,  7,  8],\n",
              "       [ 9, 10, 11, 12],\n",
              "       [13, 14, 15, 16]])"
            ]
          },
          "metadata": {},
          "execution_count": 9
        }
      ]
    },
    {
      "cell_type": "code",
      "source": [
        "# 3D Array\n",
        "array_3d = array_1d.reshape(2,4,2)\n",
        "array_3d"
      ],
      "metadata": {
        "colab": {
          "base_uri": "https://localhost:8080/"
        },
        "id": "t_gnSP6iTZF4",
        "outputId": "836c5cce-10ad-4768-9baf-0f26ac22248d"
      },
      "execution_count": null,
      "outputs": [
        {
          "output_type": "execute_result",
          "data": {
            "text/plain": [
              "array([[[ 1,  2],\n",
              "        [ 3,  4],\n",
              "        [ 5,  6],\n",
              "        [ 7,  8]],\n",
              "\n",
              "       [[ 9, 10],\n",
              "        [11, 12],\n",
              "        [13, 14],\n",
              "        [15, 16]]])"
            ]
          },
          "metadata": {},
          "execution_count": 10
        }
      ]
    },
    {
      "cell_type": "code",
      "source": [
        "# Get Memory Address**\n",
        "print(f\"Memory Address: {array_1d.data}\")\n",
        "\n",
        "# Shape of the data\n",
        "print(f\"Shape: {array_1d.shape}\")\n",
        "\n",
        "# Data type\n",
        "print(f\"Data Type: {array_1d.dtype}\")\n",
        "\n",
        "# Strides of the array**\n",
        "print(f\"Strides: {array_1d.strides}\")\n",
        "\n",
        "# Item Size**\n",
        "print(f\"Item Size: {array_1d.itemsize}\")\n"
      ],
      "metadata": {
        "colab": {
          "base_uri": "https://localhost:8080/"
        },
        "id": "Vowg0DqdTxHQ",
        "outputId": "5ea471cb-1c81-4071-9880-e9fc9b70649b"
      },
      "execution_count": null,
      "outputs": [
        {
          "output_type": "stream",
          "name": "stdout",
          "text": [
            "Memory Address: <memory at 0x7eb11835b280>\n",
            "Shape: (16,)\n",
            "Data Type: int64\n",
            "Strides: (8,)\n",
            "Item Size: 8\n"
          ]
        }
      ]
    },
    {
      "cell_type": "code",
      "source": [
        "# Shape of the 2D Aray\n",
        "print(f\"Shape: {array_2d.shape}\")\n",
        "\n",
        "# Strides of the array**\n",
        "print(f\"Strides: {array_2d.strides}\")\n",
        "\n",
        "# Item Size**\n",
        "print(f\"Item Size: {array_2d.itemsize}\")"
      ],
      "metadata": {
        "colab": {
          "base_uri": "https://localhost:8080/"
        },
        "id": "IrvWRMzmU9jp",
        "outputId": "0bb63ca6-79a8-450c-dc97-b73c8b022e72"
      },
      "execution_count": null,
      "outputs": [
        {
          "output_type": "stream",
          "name": "stdout",
          "text": [
            "Shape: (4, 4)\n",
            "Strides: (32, 8)\n",
            "Item Size: 8\n"
          ]
        }
      ]
    },
    {
      "cell_type": "markdown",
      "source": [
        "The tuple of strides indicates the number of bytes to move from one element to the next along each dimension of a multi-dimensional array. The order of values in the tuple corresponds to the dimensions of the array.\n",
        "\n",
        "* $32$: This 32 corresponds to $Item Size$ $x$ $Number Of Rows$ (8 * 4). That is, the total amount of ***bytes*** required to move from one row to the next row.\n",
        "\n",
        "* $8$: This represents the bytes required to move from one column to the next column within the same row."
      ],
      "metadata": {
        "id": "8SIs4-e2VR9r"
      }
    },
    {
      "cell_type": "markdown",
      "source": [
        "## **Array from Built-In NumPy Functions**"
      ],
      "metadata": {
        "id": "nodAkS7jYF5q"
      }
    },
    {
      "cell_type": "code",
      "source": [
        "# Array of ones\n",
        "shape = (2, 2)\n",
        "print(f\"Ones: {np.ones(shape)}\\n\")\n",
        "\n",
        "# Array of zeros\n",
        "print(f\"Zeros: {np.zeros(shape)}\\n\")\n",
        "\n",
        "# Array of random values\n",
        "print(f\"Random Values: {np.random.random(shape)}\\n\")\n",
        "\n",
        "# An empty array\n",
        "print(f\"Empty: {np.empty(shape)}\\n\")\n",
        "\n",
        "# An array full of Ks (called a Full Array)\n",
        "k = 5\n",
        "print(f\"Full: {np.full(shape, k)}\\n\")\n",
        "\n",
        "# Aranged Array\n",
        "start, stop, step = 5, 25, 3\n",
        "print(f\"Arrange: {np.arange(start, stop, step)}\\n\")\n",
        "\n",
        "# Linspace\n",
        "lower_bound, upper_bound, n = 10, 20, 20\n",
        "print(f\"Linspace: {np.linspace(lower_bound, upper_bound, n)}\")"
      ],
      "metadata": {
        "colab": {
          "base_uri": "https://localhost:8080/"
        },
        "id": "9Ch82WIfVSb4",
        "outputId": "43201da2-4fac-42a3-db6d-32328c633fcc"
      },
      "execution_count": null,
      "outputs": [
        {
          "output_type": "stream",
          "name": "stdout",
          "text": [
            "Ones: [[1. 1.]\n",
            " [1. 1.]]\n",
            "\n",
            "Zeros: [[0. 0.]\n",
            " [0. 0.]]\n",
            "\n",
            "Random Values: [[0.74688629 0.62653973]\n",
            " [0.38560424 0.67357972]]\n",
            "\n",
            "Empty: [[0.74688629 0.62653973]\n",
            " [0.38560424 0.67357972]]\n",
            "\n",
            "Full: [[5 5]\n",
            " [5 5]]\n",
            "\n",
            "Arrange: [ 5  8 11 14 17 20 23]\n",
            "\n",
            "Linspace: [10.         10.52631579 11.05263158 11.57894737 12.10526316 12.63157895\n",
            " 13.15789474 13.68421053 14.21052632 14.73684211 15.26315789 15.78947368\n",
            " 16.31578947 16.84210526 17.36842105 17.89473684 18.42105263 18.94736842\n",
            " 19.47368421 20.        ]\n"
          ]
        }
      ]
    },
    {
      "cell_type": "markdown",
      "source": [
        "## **I/O Operations**"
      ],
      "metadata": {
        "id": "AmaGlC9tYNVc"
      }
    },
    {
      "cell_type": "code",
      "source": [
        "# Saving data to a txt file\n",
        "data = np.arange(10, 50, 6)\n",
        "np.savetxt(\"data.txt\", data, delimiter=\",\")\n",
        "\n",
        "print(f\"Data: {data}\")"
      ],
      "metadata": {
        "colab": {
          "base_uri": "https://localhost:8080/"
        },
        "id": "CaQlz2MiWdsF",
        "outputId": "8c40e3f2-16f0-40b7-e93f-626843b47a42"
      },
      "execution_count": null,
      "outputs": [
        {
          "output_type": "stream",
          "name": "stdout",
          "text": [
            "Data: [10 16 22 28 34 40 46]\n"
          ]
        }
      ]
    },
    {
      "cell_type": "code",
      "source": [
        "# Loading data from memory\n",
        "np.loadtxt(\"data.txt\", delimiter=\",\", unpack=True)"
      ],
      "metadata": {
        "colab": {
          "base_uri": "https://localhost:8080/"
        },
        "id": "XExvGifIYj33",
        "outputId": "5004c4ab-6363-47c1-a34a-205ea2605862"
      },
      "execution_count": null,
      "outputs": [
        {
          "output_type": "execute_result",
          "data": {
            "text/plain": [
              "array([10., 16., 22., 28., 34., 40., 46.])"
            ]
          },
          "metadata": {},
          "execution_count": 50
        }
      ]
    },
    {
      "cell_type": "code",
      "source": [
        "# Using \"genfromtxt\"\n",
        "np.genfromtxt(\"data.txt\", skip_header=1, filling_values=-999)"
      ],
      "metadata": {
        "colab": {
          "base_uri": "https://localhost:8080/"
        },
        "id": "H9U9ly_AZBwJ",
        "outputId": "8a576d1a-5bd3-42c9-ecc8-f46d506cf560"
      },
      "execution_count": null,
      "outputs": [
        {
          "output_type": "execute_result",
          "data": {
            "text/plain": [
              "array([16., 22., 28., 34., 40., 46.])"
            ]
          },
          "metadata": {},
          "execution_count": 52
        }
      ]
    },
    {
      "cell_type": "markdown",
      "source": [
        "## **Inspecting Arrays**"
      ],
      "metadata": {
        "id": "BDo85SyCZWLA"
      }
    },
    {
      "cell_type": "code",
      "source": [
        "print(f\"N Dims     : {array_3d.ndim}\")\n",
        "print(f\"Shape      : {array_3d.shape}\")\n",
        "print(f\"Size       : {array_3d.size}\")\n",
        "print(f\"Item Size  : {array_3d.itemsize}\")\n",
        "print(f\"Bytes Consumed : {array_3d.nbytes}\")\n",
        "print(f\"Memory layout  : \\n{array_3d.flags}\")"
      ],
      "metadata": {
        "colab": {
          "base_uri": "https://localhost:8080/"
        },
        "id": "zdz7ylPPZWFw",
        "outputId": "705a810a-1d04-4911-96fe-6d712bf38b92"
      },
      "execution_count": null,
      "outputs": [
        {
          "output_type": "stream",
          "name": "stdout",
          "text": [
            "N Dims     : 3\n",
            "Shape      : (2, 4, 2)\n",
            "Size       : 16\n",
            "Item Size  : 8\n",
            "Bytes Consumed : 128\n",
            "Memory layout  : \n",
            "  C_CONTIGUOUS : True\n",
            "  F_CONTIGUOUS : False\n",
            "  OWNDATA : False\n",
            "  WRITEABLE : True\n",
            "  ALIGNED : True\n",
            "  WRITEBACKIFCOPY : False\n",
            "\n"
          ]
        }
      ]
    },
    {
      "cell_type": "markdown",
      "source": [
        "1. **C_CONTIGUOUS**: This attribute indicates whether the array data is in C-style contiguous order. In C-style order, the last axis changes the fastest (row-major order). If `C_CONTIGUOUS` is True, it means the array is stored in a way that is efficient for C-style indexing and operations.\n",
        "\n",
        "2. **F_CONTIGUOUS**: This attribute indicates whether the array data is in Fortran-style contiguous order. In Fortran-style order, the first axis changes the fastest (column-major order). If `F_CONTIGUOUS` is True, it means the array is stored in a way that is efficient for Fortran-style indexing and operations.\n",
        "\n",
        "3. **OWNDATA**: This attribute is True if the array owns its own data, meaning it is not a view or a copy of another array's data. If `OWNDATA` is False, it indicates that the array shares its data with another array.\n",
        "\n",
        "4. **WRITEABLE**: This attribute indicates whether the array data can be modified. If `WRITEABLE` is True, you can modify the data in the array. If False, it means the array is read-only.\n",
        "\n",
        "5. **ALIGNED**: This attribute is True if the data is properly aligned for SIMD (Single Instruction, Multiple Data) instructions. Alignment can affect the performance of certain operations on the array.\n",
        "\n",
        "6. **WRITEBACKIFCOPY**: This attribute is True if this array is a copy of some other array, and if modifications to this array should be written back to the original array. If False, modifications are not written back."
      ],
      "metadata": {
        "id": "VyR9oPR5Z-5m"
      }
    },
    {
      "cell_type": "markdown",
      "source": [
        "## **Brodcasting**"
      ],
      "metadata": {
        "id": "yI42918-apy_"
      }
    },
    {
      "cell_type": "markdown",
      "source": [
        "Broadcasting is the mechanism in NumPy that allows operation between arrays of different sizes by replicating the smaller array to match with the bigger array."
      ],
      "metadata": {
        "id": "zjayvc-Varrr"
      }
    },
    {
      "cell_type": "code",
      "source": [
        "a = np.random.random((2,2))\n",
        "b = np.random.random(2)\n",
        "\n",
        "print(\n",
        "    f\"A: {a}\\n\\n\",\n",
        "    f\"B: {b}\"\n",
        ")"
      ],
      "metadata": {
        "colab": {
          "base_uri": "https://localhost:8080/"
        },
        "id": "ugvlWrmTapoa",
        "outputId": "8cc47f67-570b-405b-f532-f725db1817a5"
      },
      "execution_count": null,
      "outputs": [
        {
          "output_type": "stream",
          "name": "stdout",
          "text": [
            "A: [[0.6722502  0.20366863]\n",
            " [0.71815131 0.83092016]]\n",
            "\n",
            " B: [0.03538458 0.86494721]\n"
          ]
        }
      ]
    },
    {
      "cell_type": "code",
      "source": [
        "a + b"
      ],
      "metadata": {
        "colab": {
          "base_uri": "https://localhost:8080/"
        },
        "id": "a9tRvIa7Z_g9",
        "outputId": "51d9dcf0-7b24-42d9-a81d-d3365fd2881d"
      },
      "execution_count": null,
      "outputs": [
        {
          "output_type": "execute_result",
          "data": {
            "text/plain": [
              "array([[0.70763478, 1.06861584],\n",
              "       [0.75353588, 1.69586737]])"
            ]
          },
          "metadata": {},
          "execution_count": 69
        }
      ]
    },
    {
      "cell_type": "code",
      "source": [
        "a - b"
      ],
      "metadata": {
        "colab": {
          "base_uri": "https://localhost:8080/"
        },
        "id": "nggnNXAdbNFV",
        "outputId": "a7bb267d-2a42-49ee-8054-343bc5db900e"
      },
      "execution_count": null,
      "outputs": [
        {
          "output_type": "execute_result",
          "data": {
            "text/plain": [
              "array([[ 0.63686563, -0.66127859],\n",
              "       [ 0.68276673, -0.03402705]])"
            ]
          },
          "metadata": {},
          "execution_count": 71
        }
      ]
    },
    {
      "cell_type": "code",
      "source": [
        "a * b"
      ],
      "metadata": {
        "colab": {
          "base_uri": "https://localhost:8080/"
        },
        "id": "HEUeCaTCbOe2",
        "outputId": "66fd6e4d-cf28-4a5a-af95-8b93cffdc8e5"
      },
      "execution_count": null,
      "outputs": [
        {
          "output_type": "execute_result",
          "data": {
            "text/plain": [
              "array([[0.02378729, 0.17616261],\n",
              "       [0.02541148, 0.71870207]])"
            ]
          },
          "metadata": {},
          "execution_count": 72
        }
      ]
    },
    {
      "cell_type": "code",
      "source": [
        "a @ b"
      ],
      "metadata": {
        "colab": {
          "base_uri": "https://localhost:8080/"
        },
        "id": "DJhS3hG7bPMM",
        "outputId": "5668fa9f-7d2f-4c53-e30c-1d0065dc20aa"
      },
      "execution_count": null,
      "outputs": [
        {
          "output_type": "execute_result",
          "data": {
            "text/plain": [
              "array([0.1999499 , 0.74411355])"
            ]
          },
          "metadata": {},
          "execution_count": 73
        }
      ]
    },
    {
      "cell_type": "code",
      "source": [
        "a / b"
      ],
      "metadata": {
        "colab": {
          "base_uri": "https://localhost:8080/"
        },
        "id": "RQxT6dmnbQFc",
        "outputId": "cbc360ad-6675-4393-e6b9-9120ffcf7699"
      },
      "execution_count": null,
      "outputs": [
        {
          "output_type": "execute_result",
          "data": {
            "text/plain": [
              "array([[18.99839638,  0.23546943],\n",
              "       [20.29560303,  0.96065996]])"
            ]
          },
          "metadata": {},
          "execution_count": 74
        }
      ]
    },
    {
      "cell_type": "code",
      "source": [
        "a // b"
      ],
      "metadata": {
        "colab": {
          "base_uri": "https://localhost:8080/"
        },
        "id": "owdif8oabTL8",
        "outputId": "106914d8-d07a-4aa4-c525-3577a73e810a"
      },
      "execution_count": null,
      "outputs": [
        {
          "output_type": "execute_result",
          "data": {
            "text/plain": [
              "array([[18.,  0.],\n",
              "       [20.,  0.]])"
            ]
          },
          "metadata": {},
          "execution_count": 75
        }
      ]
    },
    {
      "cell_type": "code",
      "source": [
        "a % b"
      ],
      "metadata": {
        "colab": {
          "base_uri": "https://localhost:8080/"
        },
        "id": "BAB6KadRbTsz",
        "outputId": "1deef492-2b5a-49a4-b4c7-dbe730b0de64"
      },
      "execution_count": null,
      "outputs": [
        {
          "output_type": "execute_result",
          "data": {
            "text/plain": [
              "array([[0.03532783, 0.20366863],\n",
              "       [0.01045979, 0.83092016]])"
            ]
          },
          "metadata": {},
          "execution_count": 76
        }
      ]
    },
    {
      "cell_type": "markdown",
      "source": [
        "## **NumPy Slicing & Subsets**"
      ],
      "metadata": {
        "id": "cIJNhw7hbpzD"
      }
    },
    {
      "cell_type": "code",
      "source": [
        "array_3d"
      ],
      "metadata": {
        "colab": {
          "base_uri": "https://localhost:8080/"
        },
        "id": "X77BiicibpB7",
        "outputId": "613a0ec5-f177-4f2f-bf86-0f2d070ef9f4"
      },
      "execution_count": null,
      "outputs": [
        {
          "output_type": "execute_result",
          "data": {
            "text/plain": [
              "array([[[ 1,  2],\n",
              "        [ 3,  4],\n",
              "        [ 5,  6],\n",
              "        [ 7,  8]],\n",
              "\n",
              "       [[ 9, 10],\n",
              "        [11, 12],\n",
              "        [13, 14],\n",
              "        [15, 16]]])"
            ]
          },
          "metadata": {},
          "execution_count": 81
        }
      ]
    },
    {
      "cell_type": "code",
      "source": [
        "array_3d[1]"
      ],
      "metadata": {
        "colab": {
          "base_uri": "https://localhost:8080/"
        },
        "id": "1BBTULLFbxii",
        "outputId": "2defae69-3359-4983-dfff-b1c7a2036d71"
      },
      "execution_count": null,
      "outputs": [
        {
          "output_type": "execute_result",
          "data": {
            "text/plain": [
              "array([[ 9, 10],\n",
              "       [11, 12],\n",
              "       [13, 14],\n",
              "       [15, 16]])"
            ]
          },
          "metadata": {},
          "execution_count": 82
        }
      ]
    },
    {
      "cell_type": "code",
      "source": [
        "array_3d[0, :, 0]"
      ],
      "metadata": {
        "colab": {
          "base_uri": "https://localhost:8080/"
        },
        "id": "ApGGC5J9bzR3",
        "outputId": "c3f35bb3-eae4-496f-c3c3-5f0d2778b18d"
      },
      "execution_count": null,
      "outputs": [
        {
          "output_type": "execute_result",
          "data": {
            "text/plain": [
              "array([1, 3, 5, 7])"
            ]
          },
          "metadata": {},
          "execution_count": 83
        }
      ]
    },
    {
      "cell_type": "code",
      "source": [
        "array_3d[array_3d >= 5]"
      ],
      "metadata": {
        "colab": {
          "base_uri": "https://localhost:8080/"
        },
        "id": "K0dTRMevcBbS",
        "outputId": "36b46bff-4571-4ba9-9e16-5e6d7e0e1f53"
      },
      "execution_count": null,
      "outputs": [
        {
          "output_type": "execute_result",
          "data": {
            "text/plain": [
              "array([ 5,  6,  7,  8,  9, 10, 11, 12, 13, 14, 15, 16])"
            ]
          },
          "metadata": {},
          "execution_count": 84
        }
      ]
    },
    {
      "cell_type": "markdown",
      "source": [
        "The slicing is similar to that of Lists in Python."
      ],
      "metadata": {
        "id": "8EemHQJ4JHYk"
      }
    }
  ]
}